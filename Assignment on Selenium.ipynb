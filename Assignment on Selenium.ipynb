{
 "cells": [
  {
   "cell_type": "code",
   "execution_count": 81,
   "metadata": {},
   "outputs": [],
   "source": [
    "#Importing Libary\n",
    "\n",
    "import selenium\n",
    "import pandas as pd\n",
    "from selenium import webdriver"
   ]
  },
  {
   "cell_type": "code",
   "execution_count": 176,
   "metadata": {},
   "outputs": [],
   "source": [
    "#Driver\n",
    "\n",
    "driver = webdriver.Chrome(r\"C:\\Users\\shaik mahaboob basha\\Downloads\\chromedriver.exe\")"
   ]
  },
  {
   "cell_type": "markdown",
   "metadata": {},
   "source": [
    "Q1:  Write a python program to scrape data for “Data Analyst” Job position in \n",
    "“Bangalore” location. You have to scrape the job-title, job-location, company_name,\n",
    "experience_required. You have to scrape first 10 jobs data."
   ]
  },
  {
   "cell_type": "code",
   "execution_count": 83,
   "metadata": {},
   "outputs": [],
   "source": [
    "\n",
    "url = 'https://www.naukri.com/' \n",
    "\n",
    "driver.get(url)"
   ]
  },
  {
   "cell_type": "code",
   "execution_count": 84,
   "metadata": {},
   "outputs": [],
   "source": [
    "#entering Inputs in the feild\n",
    "\n",
    "search_job = driver.find_element_by_id(\"qsb-keyword-sugg\")\n",
    "search_job.send_keys(\"Data Analyst\")\n",
    "search_loc = driver.find_element_by_xpath(\"//input[@id='qsb-location-sugg']\")\n",
    "search_loc.send_keys(\"Bangalore\")"
   ]
  },
  {
   "cell_type": "code",
   "execution_count": 85,
   "metadata": {},
   "outputs": [],
   "source": [
    "search_btn = driver.find_element_by_xpath(\"//div[@class='search-btn']/button\")\n",
    "search_btn.click()"
   ]
  },
  {
   "cell_type": "code",
   "execution_count": 86,
   "metadata": {},
   "outputs": [],
   "source": [
    "# create dictionary\n",
    "jobs={\"Job_Title\":[],\"Company_Name\":[],\"Location_Name\":[],\"Experience_Required\":[]}"
   ]
  },
  {
   "cell_type": "code",
   "execution_count": 89,
   "metadata": {},
   "outputs": [],
   "source": [
    "lst=driver.find_elements_by_css_selector(\".jobTuple.bgWhite.br4.mb-8\")\n",
    "# scrape the data from website\n",
    "for job in lst:\n",
    "    driver.implicitly_wait(10)\n",
    "    role=job.find_element_by_css_selector(\"a.title.fw500.ellipsis\").text\n",
    "    company=job.find_element_by_css_selector(\"a.subTitle.ellipsis.fleft\").text\n",
    "    location=job.find_element_by_css_selector(\".fleft.grey-text.br2.placeHolderLi.location\").text\n",
    "    exp=job.find_element_by_css_selector(\".fleft.grey-text.br2.placeHolderLi.experience\").text\n",
    "    jobs[\"Job_Title\"].append(role)\n",
    "    jobs[\"Company_Name\"].append(company)\n",
    "    jobs[\"Location_Name\"].append(location)\n",
    "    jobs[\"Experience_Required\"].append(exp)\n",
    "    \n",
    "        \n",
    "        "
   ]
  },
  {
   "cell_type": "code",
   "execution_count": 90,
   "metadata": {},
   "outputs": [
    {
     "data": {
      "text/html": [
       "<div>\n",
       "<style scoped>\n",
       "    .dataframe tbody tr th:only-of-type {\n",
       "        vertical-align: middle;\n",
       "    }\n",
       "\n",
       "    .dataframe tbody tr th {\n",
       "        vertical-align: top;\n",
       "    }\n",
       "\n",
       "    .dataframe thead th {\n",
       "        text-align: right;\n",
       "    }\n",
       "</style>\n",
       "<table border=\"1\" class=\"dataframe\">\n",
       "  <thead>\n",
       "    <tr style=\"text-align: right;\">\n",
       "      <th></th>\n",
       "      <th>Job_Title</th>\n",
       "      <th>Company_Name</th>\n",
       "      <th>Location_Name</th>\n",
       "      <th>Experience_Required</th>\n",
       "    </tr>\n",
       "  </thead>\n",
       "  <tbody>\n",
       "    <tr>\n",
       "      <th>0</th>\n",
       "      <td>Data Analyst</td>\n",
       "      <td>Super India Tech Mark</td>\n",
       "      <td>Bangalore/Bengaluru(Devalapur)</td>\n",
       "      <td>0-2 Yrs</td>\n",
       "    </tr>\n",
       "    <tr>\n",
       "      <th>1</th>\n",
       "      <td>Data Analyst</td>\n",
       "      <td>tech mahindra ltd</td>\n",
       "      <td>Bangalore/Bengaluru</td>\n",
       "      <td>4-8 Yrs</td>\n",
       "    </tr>\n",
       "    <tr>\n",
       "      <th>2</th>\n",
       "      <td>Data Analyst</td>\n",
       "      <td>CONDUENT BUSINESS SERVICES INDIA LLP</td>\n",
       "      <td>Bangalore/Bengaluru</td>\n",
       "      <td>1-2 Yrs</td>\n",
       "    </tr>\n",
       "    <tr>\n",
       "      <th>3</th>\n",
       "      <td>Data Analyst</td>\n",
       "      <td>GlaxoSmithKline Pharmaceuticals Limited</td>\n",
       "      <td>Bangalore/Bengaluru</td>\n",
       "      <td>2-7 Yrs</td>\n",
       "    </tr>\n",
       "    <tr>\n",
       "      <th>4</th>\n",
       "      <td>Data Analyst</td>\n",
       "      <td>Myntra Designs Pvt. Ltd.</td>\n",
       "      <td>Bangalore/Bengaluru</td>\n",
       "      <td>3-6 Yrs</td>\n",
       "    </tr>\n",
       "    <tr>\n",
       "      <th>5</th>\n",
       "      <td>Data Analyst</td>\n",
       "      <td>Myntra Designs Pvt. Ltd.</td>\n",
       "      <td>Bangalore/Bengaluru</td>\n",
       "      <td>4-8 Yrs</td>\n",
       "    </tr>\n",
       "    <tr>\n",
       "      <th>6</th>\n",
       "      <td>Data Analyst</td>\n",
       "      <td>WEIWO Communication Pvt. Ltd.</td>\n",
       "      <td>Bangalore/Bengaluru(Ulsoor)</td>\n",
       "      <td>5-8 Yrs</td>\n",
       "    </tr>\n",
       "    <tr>\n",
       "      <th>7</th>\n",
       "      <td>Senior Data Analyst</td>\n",
       "      <td>Cerner</td>\n",
       "      <td>Bangalore/Bengaluru</td>\n",
       "      <td>3-5 Yrs</td>\n",
       "    </tr>\n",
       "    <tr>\n",
       "      <th>8</th>\n",
       "      <td>Senior Data Analyst</td>\n",
       "      <td>Cerner Corporation</td>\n",
       "      <td>Bangalore/Bengaluru</td>\n",
       "      <td>4-9 Yrs</td>\n",
       "    </tr>\n",
       "    <tr>\n",
       "      <th>9</th>\n",
       "      <td>Sr Manager I - Data Analyst (MINT)</td>\n",
       "      <td>ExecBoardinAsia</td>\n",
       "      <td>Bangalore/Bengaluru</td>\n",
       "      <td>11-15 Yrs</td>\n",
       "    </tr>\n",
       "  </tbody>\n",
       "</table>\n",
       "</div>"
      ],
      "text/plain": [
       "                            Job_Title  \\\n",
       "0                        Data Analyst   \n",
       "1                        Data Analyst   \n",
       "2                        Data Analyst   \n",
       "3                        Data Analyst   \n",
       "4                        Data Analyst   \n",
       "5                        Data Analyst   \n",
       "6                        Data Analyst   \n",
       "7                 Senior Data Analyst   \n",
       "8                 Senior Data Analyst   \n",
       "9  Sr Manager I - Data Analyst (MINT)   \n",
       "\n",
       "                              Company_Name                   Location_Name  \\\n",
       "0                    Super India Tech Mark  Bangalore/Bengaluru(Devalapur)   \n",
       "1                        tech mahindra ltd             Bangalore/Bengaluru   \n",
       "2     CONDUENT BUSINESS SERVICES INDIA LLP             Bangalore/Bengaluru   \n",
       "3  GlaxoSmithKline Pharmaceuticals Limited             Bangalore/Bengaluru   \n",
       "4                 Myntra Designs Pvt. Ltd.             Bangalore/Bengaluru   \n",
       "5                 Myntra Designs Pvt. Ltd.             Bangalore/Bengaluru   \n",
       "6            WEIWO Communication Pvt. Ltd.     Bangalore/Bengaluru(Ulsoor)   \n",
       "7                                   Cerner             Bangalore/Bengaluru   \n",
       "8                       Cerner Corporation             Bangalore/Bengaluru   \n",
       "9                          ExecBoardinAsia             Bangalore/Bengaluru   \n",
       "\n",
       "  Experience_Required  \n",
       "0             0-2 Yrs  \n",
       "1             4-8 Yrs  \n",
       "2             1-2 Yrs  \n",
       "3             2-7 Yrs  \n",
       "4             3-6 Yrs  \n",
       "5             4-8 Yrs  \n",
       "6             5-8 Yrs  \n",
       "7             3-5 Yrs  \n",
       "8             4-9 Yrs  \n",
       "9           11-15 Yrs  "
      ]
     },
     "execution_count": 90,
     "metadata": {},
     "output_type": "execute_result"
    }
   ],
   "source": [
    "# tranform data into dataframe\n",
    "df=pd.DataFrame.from_dict(jobs)\n",
    "df.head(10)\n",
    "\n"
   ]
  },
  {
   "cell_type": "markdown",
   "metadata": {},
   "source": [
    "Q2: Q2: Write a python program to scrape data for “Data Scientist” Job position in \n",
    "“Bangalore” location. You have to scrape the job-title, job-location,\n",
    "company_name, full job-description. You have to scrape first 10 jobs data.\n",
    "This task will be done in following steps:\n",
    "1. first get the webpage https://www.naukri.com/\n",
    "2. Enter “Data Scientist” in “Skill,Designations,Companies” field and enter \n",
    "“Bangalore” in “enter the location” field.\n",
    "3. Then click the search button.\n",
    "4. Then scrape the data for the first 10 jobs results you get.\n",
    "5. Finally create a dataframe of the scraped data.\n"
   ]
  },
  {
   "cell_type": "code",
   "execution_count": 175,
   "metadata": {},
   "outputs": [],
   "source": [
    "driver.close()"
   ]
  },
  {
   "cell_type": "code",
   "execution_count": 93,
   "metadata": {},
   "outputs": [],
   "source": [
    "driver.get('https://www.naukri.com/')"
   ]
  },
  {
   "cell_type": "code",
   "execution_count": 94,
   "metadata": {},
   "outputs": [],
   "source": [
    "#entering Inputs in the feild\n",
    "\n",
    "search_job = driver.find_element_by_id(\"qsb-keyword-sugg\")\n",
    "search_job.send_keys(\"Data Scientist\")\n",
    "search_loc = driver.find_element_by_xpath(\"//input[@id='qsb-location-sugg']\")\n",
    "search_loc.send_keys(\"Bangalore\")"
   ]
  },
  {
   "cell_type": "code",
   "execution_count": 95,
   "metadata": {},
   "outputs": [],
   "source": [
    "search_btn = driver.find_element_by_xpath(\"//div[@class='search-btn']/button\")\n",
    "search_btn.click()"
   ]
  },
  {
   "cell_type": "code",
   "execution_count": 96,
   "metadata": {},
   "outputs": [],
   "source": [
    "# create dictionary\n",
    "jobs={\"Job_Title\":[],\"Company_Name\":[],\"Location_Name\":[],\"Experience_Required\":[]}"
   ]
  },
  {
   "cell_type": "code",
   "execution_count": 97,
   "metadata": {},
   "outputs": [],
   "source": [
    "tnd=driver.find_elements_by_css_selector(\".jobTuple.bgWhite.br4.mb-8\")\n",
    "# scrape the data from website\n",
    "for job in tnd:\n",
    "    driver.implicitly_wait(10)\n",
    "    role=job.find_element_by_css_selector(\"a.title.fw500.ellipsis\").text\n",
    "    company=job.find_element_by_css_selector(\"a.subTitle.ellipsis.fleft\").text\n",
    "    location=job.find_element_by_css_selector(\".fleft.grey-text.br2.placeHolderLi.location\").text\n",
    "    exp=job.find_element_by_css_selector(\".fleft.grey-text.br2.placeHolderLi.experience\").text\n",
    "    jobs[\"Job_Title\"].append(role)\n",
    "    jobs[\"Company_Name\"].append(company)\n",
    "    jobs[\"Location_Name\"].append(location)\n",
    "    jobs[\"Experience_Required\"].append(exp)\n"
   ]
  },
  {
   "cell_type": "code",
   "execution_count": 98,
   "metadata": {},
   "outputs": [
    {
     "data": {
      "text/html": [
       "<div>\n",
       "<style scoped>\n",
       "    .dataframe tbody tr th:only-of-type {\n",
       "        vertical-align: middle;\n",
       "    }\n",
       "\n",
       "    .dataframe tbody tr th {\n",
       "        vertical-align: top;\n",
       "    }\n",
       "\n",
       "    .dataframe thead th {\n",
       "        text-align: right;\n",
       "    }\n",
       "</style>\n",
       "<table border=\"1\" class=\"dataframe\">\n",
       "  <thead>\n",
       "    <tr style=\"text-align: right;\">\n",
       "      <th></th>\n",
       "      <th>Job_Title</th>\n",
       "      <th>Company_Name</th>\n",
       "      <th>Location_Name</th>\n",
       "      <th>Experience_Required</th>\n",
       "    </tr>\n",
       "  </thead>\n",
       "  <tbody>\n",
       "    <tr>\n",
       "      <th>0</th>\n",
       "      <td>Data Scientist</td>\n",
       "      <td>Fractal Analytics</td>\n",
       "      <td>Bangalore/Bengaluru</td>\n",
       "      <td>3-7 Yrs</td>\n",
       "    </tr>\n",
       "    <tr>\n",
       "      <th>1</th>\n",
       "      <td>Data Scientist - C3 Developer</td>\n",
       "      <td>Shell India Markets Private Limited</td>\n",
       "      <td>Chennai, Bangalore/Bengaluru</td>\n",
       "      <td>4-6 Yrs</td>\n",
       "    </tr>\n",
       "    <tr>\n",
       "      <th>2</th>\n",
       "      <td>Principal Data Scientist - Product Development...</td>\n",
       "      <td>hCapital Executive Search</td>\n",
       "      <td>Bangalore</td>\n",
       "      <td>10-15 Yrs</td>\n",
       "    </tr>\n",
       "    <tr>\n",
       "      <th>3</th>\n",
       "      <td>Senior Data Scientist</td>\n",
       "      <td>Avom Consultants</td>\n",
       "      <td>Pune, Bangalore/Bengaluru, Delhi / NCR</td>\n",
       "      <td>5-10 Yrs</td>\n",
       "    </tr>\n",
       "    <tr>\n",
       "      <th>4</th>\n",
       "      <td>Data Scientist- NIIT ltd.</td>\n",
       "      <td>NIIT Ltd.</td>\n",
       "      <td>Bangalore/Bengaluru</td>\n",
       "      <td>3-6 Yrs</td>\n",
       "    </tr>\n",
       "    <tr>\n",
       "      <th>5</th>\n",
       "      <td>Data Scientist - AI ML Team</td>\n",
       "      <td>CustomerXPs Software Pvt Ltd</td>\n",
       "      <td>Bangalore/Bengaluru</td>\n",
       "      <td>8-13 Yrs</td>\n",
       "    </tr>\n",
       "    <tr>\n",
       "      <th>6</th>\n",
       "      <td>Data Scientist - Algorithm/ Machine Learning</td>\n",
       "      <td>Ally -eXecutive HR Consulting Partner</td>\n",
       "      <td>Bangalore/Bengaluru</td>\n",
       "      <td>6-9 Yrs</td>\n",
       "    </tr>\n",
       "    <tr>\n",
       "      <th>7</th>\n",
       "      <td>Senior Data Scientist</td>\n",
       "      <td>ExecBoardinAsia</td>\n",
       "      <td>Bangalore/Bengaluru</td>\n",
       "      <td>5-10 Yrs</td>\n",
       "    </tr>\n",
       "    <tr>\n",
       "      <th>8</th>\n",
       "      <td>Data Scientist - KPO - IIT/NIT/BITS</td>\n",
       "      <td>TalentCo Search Pvt Ltd</td>\n",
       "      <td>Mumbai, Bangalore/Bengaluru, Delhi NCR</td>\n",
       "      <td>2-7 Yrs</td>\n",
       "    </tr>\n",
       "    <tr>\n",
       "      <th>9</th>\n",
       "      <td>Staff Data Scientist (MINT)</td>\n",
       "      <td>Walmart Labs</td>\n",
       "      <td>Bangalore/Bengaluru</td>\n",
       "      <td>8-12 Yrs</td>\n",
       "    </tr>\n",
       "  </tbody>\n",
       "</table>\n",
       "</div>"
      ],
      "text/plain": [
       "                                           Job_Title  \\\n",
       "0                                     Data Scientist   \n",
       "1                      Data Scientist - C3 Developer   \n",
       "2  Principal Data Scientist - Product Development...   \n",
       "3                              Senior Data Scientist   \n",
       "4                          Data Scientist- NIIT ltd.   \n",
       "5                        Data Scientist - AI ML Team   \n",
       "6       Data Scientist - Algorithm/ Machine Learning   \n",
       "7                              Senior Data Scientist   \n",
       "8                Data Scientist - KPO - IIT/NIT/BITS   \n",
       "9                        Staff Data Scientist (MINT)   \n",
       "\n",
       "                            Company_Name  \\\n",
       "0                      Fractal Analytics   \n",
       "1    Shell India Markets Private Limited   \n",
       "2              hCapital Executive Search   \n",
       "3                       Avom Consultants   \n",
       "4                              NIIT Ltd.   \n",
       "5           CustomerXPs Software Pvt Ltd   \n",
       "6  Ally -eXecutive HR Consulting Partner   \n",
       "7                        ExecBoardinAsia   \n",
       "8                TalentCo Search Pvt Ltd   \n",
       "9                           Walmart Labs   \n",
       "\n",
       "                            Location_Name Experience_Required  \n",
       "0                     Bangalore/Bengaluru             3-7 Yrs  \n",
       "1            Chennai, Bangalore/Bengaluru             4-6 Yrs  \n",
       "2                               Bangalore           10-15 Yrs  \n",
       "3  Pune, Bangalore/Bengaluru, Delhi / NCR            5-10 Yrs  \n",
       "4                     Bangalore/Bengaluru             3-6 Yrs  \n",
       "5                     Bangalore/Bengaluru            8-13 Yrs  \n",
       "6                     Bangalore/Bengaluru             6-9 Yrs  \n",
       "7                     Bangalore/Bengaluru            5-10 Yrs  \n",
       "8  Mumbai, Bangalore/Bengaluru, Delhi NCR             2-7 Yrs  \n",
       "9                     Bangalore/Bengaluru            8-12 Yrs  "
      ]
     },
     "execution_count": 98,
     "metadata": {},
     "output_type": "execute_result"
    }
   ],
   "source": [
    "# tranform data into dataframe\n",
    "df=pd.DataFrame.from_dict(jobs)\n",
    "df.head(10)\n"
   ]
  },
  {
   "cell_type": "markdown",
   "metadata": {},
   "source": [
    "2.Please note that you have to scrape full job description. For that you may have to \n",
    "open each job separately as shown below"
   ]
  },
  {
   "cell_type": "code",
   "execution_count": 102,
   "metadata": {},
   "outputs": [],
   "source": [
    "#Specific URl\n",
    "import numpy as np\n",
    "pages = np.arange(1, 100, 50)\n",
    "\n",
    "for page in pages:\n",
    "    url = \"https://www.naukri.com/job-listings-lead-data-scientist-immediate-joiners-are-required-techolution-india-private-limited-mumbai-hyderabad-secunderabad-pune-chennai-bangalore-bengaluru-delhi-ncr-9-to-14-years-130321000221?src=jobsearchDesk&sid=16169499389768717&xp=7&px=1\" + str(page)"
   ]
  },
  {
   "cell_type": "code",
   "execution_count": 104,
   "metadata": {},
   "outputs": [],
   "source": [
    "driver.get(url)"
   ]
  },
  {
   "cell_type": "code",
   "execution_count": 105,
   "metadata": {},
   "outputs": [],
   "source": [
    "# create dictionary\n",
    "job_title = []\n",
    "job_descreption =[]"
   ]
  },
  {
   "cell_type": "code",
   "execution_count": 106,
   "metadata": {},
   "outputs": [
    {
     "data": {
      "text/plain": [
       "[<selenium.webdriver.remote.webelement.WebElement (session=\"f55e5b7cbe16c1a8cb1a7c992fccbb3e\", element=\"3f31f364-76aa-47f0-ad3c-aa479d93e320\")>]"
      ]
     },
     "execution_count": 106,
     "metadata": {},
     "output_type": "execute_result"
    }
   ],
   "source": [
    "#job tag\n",
    "\n",
    "title_tag = driver.find_elements_by_xpath(\"//h1[@class='jd-header-title']\")\n",
    "title_tag"
   ]
  },
  {
   "cell_type": "code",
   "execution_count": 107,
   "metadata": {},
   "outputs": [
    {
     "data": {
      "text/plain": [
       "['Lead Data Scientist - Immediate Joiners are Required']"
      ]
     },
     "execution_count": 107,
     "metadata": {},
     "output_type": "execute_result"
    }
   ],
   "source": [
    "for i in title_tag:\n",
    "    title = i.text\n",
    "    job_title.append(title)\n",
    "\n",
    "job_title"
   ]
  },
  {
   "cell_type": "code",
   "execution_count": 110,
   "metadata": {},
   "outputs": [
    {
     "data": {
      "text/plain": [
       "\"Job description\\nWe are looking for qualified Lead Data Scientist who can independently drive Data Science & Data Analytics initiatives and manage the data science team, planning projects and building analytics models.\\n\\nTitle : Lead Data Scientist\\nLocation: Complete Remote work with Partial travel to Mauritius\\nExperience : 7 + years\\n\\nLooking for some one can join in in 10 days only\\n\\n\\nRequired Skills :\\nAdvanced Analytics\\nMachine Learning Models\\nR & Python\\nData analysis and synthesis\\nData development process\\nData and Machine Learning integration design\\nData modelling\\nBuild the data pipelines leveraging DevOps CI/CD\\nMetadata management\\nStrong Communication Skills\\nStrong Leadership Skills\\n\\nJob Responsibilities:\\n\\nDefine the Data Analytics Roadmap and drive the execution of same to drive business value for the organization.\\nCoach the Analytics team on state-of-the-art advanced analytic, quantitative tools and modeling techniques required to derive business insights, solve complex business problems and improve decisions.\\nPartner with the Analytics Translator lead to facilitate strategic workshops with Business Leaders to identify opportunities for leveraging company data to drive business solutions.\\nSet up the advanced analytics environment that will enable the sustainable execution of the analytics roadmap (including exploring cloud and on-premise solutions such as Hadoop).\\nMake daily prioritization decisions on data sources and environment capabilities accordance the roadmap.\\nOversee the portfolio of analytics projects for the bank to ensure alignment and consistency across.\\nDevelop standards and processes for analytics solution development and implementation across all critical functions of the company.\\nOversee processes for extracting, analyzing and interpreting data to ensure that data integrity and accuracy prior to the development of analytical models.\\nCollaborate with software engineers to map, produce, transform and test new data feeds for data owners and end-users\\nInstill a culture of data-informed decision making across the bank by championing broader analytics initiatives across the Bank.\\nOversee the quality and effectiveness of analytics models deployed across the bank.\\nEnsure optimal staffing across analytics use cases and customer journey squads.\\nSet up a community of practice for data practitioners to explore new techniques/ technologies to ensure sustained learning and growth.\\nProvide thought leadership by researching best practices, conducting experiments and staying abreast of latest trends in analytical techniques such as machine learning, deep learning and text analytics to drive continuous innovative.\\n\\nIf you believe you are qualified and are looking forward to setting your career on a fast-track, apply by submitting a few paragraphs explaining why you believe you are the right person for this role.\\nWhy Join Techolution?\\nBe part of the next most admired high tech brand in the world and launch the next most exciting billion dollar IPO. We are looking for talent with amazing technical skills with a great foundation for the open role. The type of personalities that do very well at our company are people who are looking to contribute a larger than life cause. People who are looking for a very high growth environment where they are helping the company grow and also personally growing through a very unique and world-class exposure.\\nWork Life at Techolution:\\nAt Techolution, we do things a bit differently. There's no corporate nonsense, and no old-fashioned hierarchy. Instead, we work in dozens of self-sufficient, autonomous teams. Think of them like start-ups within a start-up that learn from each other. You are your own boss! We're going to be upfront the way we work doesn't suit everyone. But if freedom, autonomy, and life-affirming, head-scratching professional challenges rock your world, we could be a match made in heaven.\\n\\n\\nTo know more about Techolution, visit our website: www.techolution.com\\n\\n\\nThank You,\\nMadhav\\nEmail : madhav@techolution.com\\nLead Talent Acquisition Specialist\\nTecholution\\nhttp://techolution.com\\nRoleAnalytics Manager\\nIndustry TypeIT-Software, Software Services\\nFunctional AreaAnalytics & Business Intelligence\\nEmployment TypeFull Time, Permanent\\nRole CategoryAnalytics & BI\\nEducation\\nUG :Any Graduate in Any Specialization\\nKey Skills\\nData ScienceMachine LearningPython\\nRAdvanced AnalyticsTime SeriesData Analytics\\nSkills highlighted with ‘‘ are preferred keyskills\""
      ]
     },
     "execution_count": 110,
     "metadata": {},
     "output_type": "execute_result"
    }
   ],
   "source": [
    "#Job Description\n",
    "\n",
    "#lst=driver.find_elements_by_css_selector(\".jobTuple.bgWhite.br4.mb-8\")\n",
    "\n",
    "\n",
    "descr_tag = driver.find_element_by_xpath(\"//section[@class='job-desc']\").text\n",
    "descr_tag"
   ]
  },
  {
   "cell_type": "markdown",
   "metadata": {},
   "source": [
    "Q3: In this question you have to scrape data using the filters available on the \n",
    "webpage as shown below:\n",
    "\n",
    "You have to use the location and salary filter.\n",
    "You have to scrape data for “Data Scientist” designation for first 10 job results.\n",
    "You have to scrape the job-title, job-location, company_name,\n",
    "experience_required.\n",
    "The location filter to be used is “Delhi/NCR”\n",
    "The salary filter to be used is “3-6” lakhs"
   ]
  },
  {
   "cell_type": "code",
   "execution_count": 119,
   "metadata": {},
   "outputs": [],
   "source": [
    "url = 'https://www.naukri.com/' \n",
    "\n",
    "driver.get(url)\n",
    "search_job = driver.find_element_by_id(\"qsb-keyword-sugg\").send_keys(\"Data Scientist\")\n",
    "\n",
    "\n",
    "search_btn = driver.find_element_by_xpath(\"//div[@class='search-btn']/button\").click()\n",
    "\n",
    "driver.implicitly_wait(20)\n",
    "\n",
    "\n",
    "check_location = driver.find_element_by_xpath(\"/html/body/div[1]/div[3]/div[2]/section[1]/div[2]/div[2]/div[2]/div[2]\").click()\n",
    "check_salary = driver.find_element_by_xpath(\"/html/body/div[1]/div[3]/div[2]/section[1]/div[2]/div[3]/div[2]/div[2]/label/p\").click()\n",
    "\n",
    "# create dictionary\n",
    "jobs={\"Job_Title\":[],\"Company_Name\":[],\"Location_Name\":[],\"Experience_Required\":[]}\n",
    "\n"
   ]
  },
  {
   "cell_type": "code",
   "execution_count": 120,
   "metadata": {},
   "outputs": [
    {
     "data": {
      "text/html": [
       "<div>\n",
       "<style scoped>\n",
       "    .dataframe tbody tr th:only-of-type {\n",
       "        vertical-align: middle;\n",
       "    }\n",
       "\n",
       "    .dataframe tbody tr th {\n",
       "        vertical-align: top;\n",
       "    }\n",
       "\n",
       "    .dataframe thead th {\n",
       "        text-align: right;\n",
       "    }\n",
       "</style>\n",
       "<table border=\"1\" class=\"dataframe\">\n",
       "  <thead>\n",
       "    <tr style=\"text-align: right;\">\n",
       "      <th></th>\n",
       "      <th>Job_Title</th>\n",
       "      <th>Company_Name</th>\n",
       "      <th>Location_Name</th>\n",
       "      <th>Experience_Required</th>\n",
       "    </tr>\n",
       "  </thead>\n",
       "  <tbody>\n",
       "    <tr>\n",
       "      <th>0</th>\n",
       "      <td>Data Scientist</td>\n",
       "      <td>NatWest Group</td>\n",
       "      <td>Delhi / NCR</td>\n",
       "      <td>4-8 Yrs</td>\n",
       "    </tr>\n",
       "    <tr>\n",
       "      <th>1</th>\n",
       "      <td>Data Scientist</td>\n",
       "      <td>itForte Staffing Services Private Ltd.</td>\n",
       "      <td>Gurgaon/Gurugram</td>\n",
       "      <td>3-8 Yrs</td>\n",
       "    </tr>\n",
       "    <tr>\n",
       "      <th>2</th>\n",
       "      <td>Data Scientist</td>\n",
       "      <td>Msg.ai</td>\n",
       "      <td>Gurgaon/Gurugram</td>\n",
       "      <td>3-5 Yrs</td>\n",
       "    </tr>\n",
       "    <tr>\n",
       "      <th>3</th>\n",
       "      <td>Data Scientist</td>\n",
       "      <td>NatWest Group</td>\n",
       "      <td>Gurgaon/Gurugram</td>\n",
       "      <td>4-8 Yrs</td>\n",
       "    </tr>\n",
       "    <tr>\n",
       "      <th>4</th>\n",
       "      <td>Data Scientist</td>\n",
       "      <td>NatWest Group</td>\n",
       "      <td>Delhi / NCR</td>\n",
       "      <td>4-8 Yrs</td>\n",
       "    </tr>\n",
       "    <tr>\n",
       "      <th>5</th>\n",
       "      <td>Data Scientist | Python | Machine Learning | D...</td>\n",
       "      <td>Careerera</td>\n",
       "      <td>Noida(Sector-59 Noida)</td>\n",
       "      <td>3-8 Yrs</td>\n",
       "    </tr>\n",
       "    <tr>\n",
       "      <th>6</th>\n",
       "      <td>Data Scientist/Data Analyst - Python/Machine L...</td>\n",
       "      <td>Change leaders</td>\n",
       "      <td>Mumbai, Ghaziabad</td>\n",
       "      <td>5-10 Yrs</td>\n",
       "    </tr>\n",
       "    <tr>\n",
       "      <th>7</th>\n",
       "      <td>GCP Presales AIML Architect &amp; Data Scientist (...</td>\n",
       "      <td>Lecan Solutions Pvt Ltd</td>\n",
       "      <td>Noida</td>\n",
       "      <td>6-11 Yrs</td>\n",
       "    </tr>\n",
       "    <tr>\n",
       "      <th>8</th>\n",
       "      <td>GCP Presales AIML Architect &amp; Data Scientist (...</td>\n",
       "      <td>Lecan Solutions Pvt Ltd</td>\n",
       "      <td>Noida</td>\n",
       "      <td>6-11 Yrs</td>\n",
       "    </tr>\n",
       "    <tr>\n",
       "      <th>9</th>\n",
       "      <td>Data Scientist Machine Learning</td>\n",
       "      <td>Delhivery</td>\n",
       "      <td>Gurgaon/Gurugram</td>\n",
       "      <td>1-3 Yrs</td>\n",
       "    </tr>\n",
       "  </tbody>\n",
       "</table>\n",
       "</div>"
      ],
      "text/plain": [
       "                                           Job_Title  \\\n",
       "0                                     Data Scientist   \n",
       "1                                     Data Scientist   \n",
       "2                                     Data Scientist   \n",
       "3                                     Data Scientist   \n",
       "4                                     Data Scientist   \n",
       "5  Data Scientist | Python | Machine Learning | D...   \n",
       "6  Data Scientist/Data Analyst - Python/Machine L...   \n",
       "7  GCP Presales AIML Architect & Data Scientist (...   \n",
       "8  GCP Presales AIML Architect & Data Scientist (...   \n",
       "9                    Data Scientist Machine Learning   \n",
       "\n",
       "                             Company_Name           Location_Name  \\\n",
       "0                           NatWest Group             Delhi / NCR   \n",
       "1  itForte Staffing Services Private Ltd.        Gurgaon/Gurugram   \n",
       "2                                  Msg.ai        Gurgaon/Gurugram   \n",
       "3                           NatWest Group        Gurgaon/Gurugram   \n",
       "4                           NatWest Group             Delhi / NCR   \n",
       "5                               Careerera  Noida(Sector-59 Noida)   \n",
       "6                          Change leaders       Mumbai, Ghaziabad   \n",
       "7                 Lecan Solutions Pvt Ltd                   Noida   \n",
       "8                 Lecan Solutions Pvt Ltd                   Noida   \n",
       "9                               Delhivery        Gurgaon/Gurugram   \n",
       "\n",
       "  Experience_Required  \n",
       "0             4-8 Yrs  \n",
       "1             3-8 Yrs  \n",
       "2             3-5 Yrs  \n",
       "3             4-8 Yrs  \n",
       "4             4-8 Yrs  \n",
       "5             3-8 Yrs  \n",
       "6            5-10 Yrs  \n",
       "7            6-11 Yrs  \n",
       "8            6-11 Yrs  \n",
       "9             1-3 Yrs  "
      ]
     },
     "execution_count": 120,
     "metadata": {},
     "output_type": "execute_result"
    }
   ],
   "source": [
    "lst=driver.find_elements_by_css_selector(\".jobTuple.bgWhite.br4.mb-8\")\n",
    "# scrape the data from website\n",
    "for job in lst:\n",
    "    driver.implicitly_wait(10)\n",
    "    role=job.find_element_by_css_selector(\"a.title.fw500.ellipsis\").text\n",
    "    company=job.find_element_by_css_selector(\"a.subTitle.ellipsis.fleft\").text\n",
    "    location=job.find_element_by_css_selector(\".fleft.grey-text.br2.placeHolderLi.location\").text\n",
    "    exp=job.find_element_by_css_selector(\".fleft.grey-text.br2.placeHolderLi.experience\").text\n",
    "    jobs[\"Job_Title\"].append(role)\n",
    "    jobs[\"Company_Name\"].append(company)\n",
    "    jobs[\"Location_Name\"].append(location)\n",
    "    jobs[\"Experience_Required\"].append(exp)\n",
    "    \n",
    "    \n",
    "# tranform data into dataframe\n",
    "df=pd.DataFrame.from_dict(jobs)\n",
    "df.head(10)"
   ]
  },
  {
   "cell_type": "markdown",
   "metadata": {},
   "source": [
    "Q4: Write a python program to scrape data for first 10 job results for Data scientist \n",
    "Designation in Noida location. You have to scrape company_name, No. of days \n",
    "ago when job was posted, Rating of the company.\n",
    "This task will be done in following steps:\n",
    "1. first get the webpage https://www.glassdoor.co.in/index.htm\n",
    "2. Enter “Data Scientist” in “Job Title,Keyword,Company” field and enter “Noida” \n",
    "in “location” field.\n",
    "3. Then click the search button. You will land up in the below page:\n"
   ]
  },
  {
   "cell_type": "code",
   "execution_count": 3,
   "metadata": {},
   "outputs": [],
   "source": [
    "url = ' https://www.glassdoor.co.in/Salaries/index.htm' \n",
    "\n",
    "driver.get(url)"
   ]
  },
  {
   "cell_type": "code",
   "execution_count": 4,
   "metadata": {},
   "outputs": [],
   "source": [
    "search_job = driver.find_element_by_id(\"KeywordSearch\").send_keys(\"Data Scientist\")\n",
    "search_location = driver.find_element_by_id(\"LocationSearch\").send_keys(\"Noida\")"
   ]
  },
  {
   "cell_type": "code",
   "execution_count": 5,
   "metadata": {},
   "outputs": [],
   "source": [
    "search_btn = driver.find_element_by_xpath(\"/html/body/div[3]/div/div[1]/div[1]/div/div/form/button\").click()"
   ]
  },
  {
   "cell_type": "code",
   "execution_count": 64,
   "metadata": {},
   "outputs": [],
   "source": [
    "# create dictionary\n",
    "jobs={\"Company_Name\":[],\"Min_Salary\":[],\"Max_Salary\":[],\"Avg_Salary\":[] }"
   ]
  },
  {
   "cell_type": "code",
   "execution_count": 63,
   "metadata": {},
   "outputs": [],
   "source": [
    "Job_Title = []\n",
    "\n",
    "#lst=driver.find_elements_by_css_selector(\".jobTuple.bgWhite.br4.mb-8\")\n",
    "# scrape the data from website\n",
    "#for job in lst:\n",
    "driver.implicitly_wait(10)\n",
    "company=driver.find_element_by_xpath(\"/html/body/div[3]/div/div/div/div[11]/main/div/div[1]/div[2]/article/div[4]/div[1]/div[1]/div[4]/div/div[1]/div/div[2]/p[2]\").text\n",
    "AvgSalary=driver.find_element_by_xpath(\"/html/body/div[3]/div/div/div/div[11]/main/div/div[1]/div[2]/article/div[4]/div[1]/div[1]/div[4]/div/div[1]/div/div[2]/p[3]\").text\n",
    "MinSalary=driver.find_element_by_xpath(\"/html/body/div[3]/div/div/div/div[11]/main/div/div[1]/div[2]/article/div[4]/div[1]/div[1]/div[4]/div/div[1]/div/div[2]/p[4]\").text\n",
    "    \n",
    "    \n",
    "   "
   ]
  },
  {
   "cell_type": "code",
   "execution_count": 65,
   "metadata": {},
   "outputs": [],
   "source": [
    "\n",
    "jobs[\"Company_Name\"].append(company)\n",
    "jobs[\"Avg_Salary\"].append(AvgSalary)\n",
    "jobs[\"Min_Salary\"].append(MinSalary)\n",
    "\n"
   ]
  },
  {
   "cell_type": "code",
   "execution_count": 72,
   "metadata": {},
   "outputs": [
    {
     "data": {
      "text/plain": [
       "['Range: ₹336L - ₹1,080L']"
      ]
     },
     "execution_count": 72,
     "metadata": {},
     "output_type": "execute_result"
    }
   ],
   "source": [
    "jobs[\"Min_Salary\"]"
   ]
  },
  {
   "cell_type": "code",
   "execution_count": 11,
   "metadata": {},
   "outputs": [
    {
     "data": {
      "text/html": [
       "<div>\n",
       "<style scoped>\n",
       "    .dataframe tbody tr th:only-of-type {\n",
       "        vertical-align: middle;\n",
       "    }\n",
       "\n",
       "    .dataframe tbody tr th {\n",
       "        vertical-align: top;\n",
       "    }\n",
       "\n",
       "    .dataframe thead th {\n",
       "        text-align: right;\n",
       "    }\n",
       "</style>\n",
       "<table border=\"1\" class=\"dataframe\">\n",
       "  <thead>\n",
       "    <tr style=\"text-align: right;\">\n",
       "      <th></th>\n",
       "      <th>Job_Title</th>\n",
       "      <th>Company_Name</th>\n",
       "      <th>Min_Salary</th>\n",
       "      <th>Max_Salary</th>\n",
       "      <th>Avg_Salary</th>\n",
       "      <th>Rating</th>\n",
       "    </tr>\n",
       "  </thead>\n",
       "  <tbody>\n",
       "  </tbody>\n",
       "</table>\n",
       "</div>"
      ],
      "text/plain": [
       "Empty DataFrame\n",
       "Columns: [Job_Title, Company_Name, Min_Salary, Max_Salary, Avg_Salary, Rating]\n",
       "Index: []"
      ]
     },
     "execution_count": 11,
     "metadata": {},
     "output_type": "execute_result"
    }
   ],
   "source": [
    "# tranform data into dataframe\n",
    "df=pd.DataFrame.from_dict(jobs)\n",
    "df.head(10)"
   ]
  },
  {
   "cell_type": "markdown",
   "metadata": {},
   "source": [
    "Q6 : Scrape data of first 100 sunglasses listings on flipkart.com. You have to \n",
    "scrape four attributes:\n"
   ]
  },
  {
   "cell_type": "code",
   "execution_count": 83,
   "metadata": {},
   "outputs": [],
   "source": [
    "\n",
    "url = 'https://www.flipkart.com/' \n",
    "\n",
    "driver.get(url)"
   ]
  },
  {
   "cell_type": "code",
   "execution_count": 84,
   "metadata": {},
   "outputs": [],
   "source": [
    "#entering Inputs in the feild\n",
    "\n",
    "search_product = driver.find_element_by_xpath(\"/html/body/div[1]/div/div[1]/div[1]/div[2]/div[2]/form/div/div/input\").send_keys(\"sunglasses\")\n",
    "search_btn = driver.find_element_by_xpath(\"/html/body/div[1]/div/div[1]/div[1]/div[2]/div[2]/form/div/button\").click()"
   ]
  },
  {
   "cell_type": "code",
   "execution_count": 143,
   "metadata": {},
   "outputs": [],
   "source": [
    "# create dictionary\n",
    "flipkart={\"product_name\":[],\"product_price\":[]}"
   ]
  },
  {
   "cell_type": "code",
   "execution_count": 148,
   "metadata": {},
   "outputs": [],
   "source": [
    "# scrape the data from website\n",
    "driver.implicitly_wait(10)\n",
    "product=driver.find_element_by_css_selector(\"a.IRpwTa\").text\n",
    "price=driver.find_element_by_css_selector(\"div._30jeq3\").text\n",
    "flipkart[\"product_name\"].append(product)\n",
    "flipkart[\"product_price\"].append(price)\n",
    "    "
   ]
  },
  {
   "cell_type": "code",
   "execution_count": 149,
   "metadata": {},
   "outputs": [
    {
     "data": {
      "text/html": [
       "<div>\n",
       "<style scoped>\n",
       "    .dataframe tbody tr th:only-of-type {\n",
       "        vertical-align: middle;\n",
       "    }\n",
       "\n",
       "    .dataframe tbody tr th {\n",
       "        vertical-align: top;\n",
       "    }\n",
       "\n",
       "    .dataframe thead th {\n",
       "        text-align: right;\n",
       "    }\n",
       "</style>\n",
       "<table border=\"1\" class=\"dataframe\">\n",
       "  <thead>\n",
       "    <tr style=\"text-align: right;\">\n",
       "      <th></th>\n",
       "      <th>product_name</th>\n",
       "      <th>product_price</th>\n",
       "    </tr>\n",
       "  </thead>\n",
       "  <tbody>\n",
       "    <tr>\n",
       "      <th>0</th>\n",
       "      <td>UV Protection Over-sized Sunglasses (Free Size)</td>\n",
       "      <td>₹349</td>\n",
       "    </tr>\n",
       "    <tr>\n",
       "      <th>1</th>\n",
       "      <td>UV Protection Over-sized Sunglasses (Free Size)</td>\n",
       "      <td>₹349</td>\n",
       "    </tr>\n",
       "  </tbody>\n",
       "</table>\n",
       "</div>"
      ],
      "text/plain": [
       "                                      product_name product_price\n",
       "0  UV Protection Over-sized Sunglasses (Free Size)          ₹349\n",
       "1  UV Protection Over-sized Sunglasses (Free Size)          ₹349"
      ]
     },
     "execution_count": 149,
     "metadata": {},
     "output_type": "execute_result"
    }
   ],
   "source": [
    "# tranform data into dataframe\n",
    "df=pd.DataFrame.from_dict(flipkart)\n",
    "df.head()\n"
   ]
  },
  {
   "cell_type": "markdown",
   "metadata": {},
   "source": [
    "Scrape 100 reviews data from flipkart.com for iphone11 phone. You have to \n",
    "go the link: https://www.flipkart.com/apple-iphone-11-black-64-gb-includes\u0002earpods-power\u0002adapter/p/itm0f37c2240b217?pid=MOBFKCTSVZAXUHGR&lid=LSTMOBFKC\n",
    "TSVZAXUHGREPBFGI&marketplace."
   ]
  },
  {
   "cell_type": "code",
   "execution_count": 152,
   "metadata": {},
   "outputs": [],
   "source": [
    "url = 'https://www.flipkart.com/apple-iphone-11-black-64-gb-includes-earpods-power-adapter/p/itm0f37c2240b217?pid=MOBFKCTSVZAXUHGR&lid=LSTMOBFKCTSVZAXUHGREPBFGI&marketplace' \n",
    "\n",
    "driver.get(url)"
   ]
  },
  {
   "cell_type": "code",
   "execution_count": 154,
   "metadata": {},
   "outputs": [],
   "source": [
    "# create dictionary\n",
    "flipkart={\"product_rating\":[],\"product_review\":[], \"product_summary\":[]}"
   ]
  },
  {
   "cell_type": "code",
   "execution_count": 156,
   "metadata": {},
   "outputs": [],
   "source": [
    "# scrape the data from website\n",
    "driver.implicitly_wait(10)\n",
    "rating = driver.find_element_by_xpath(\"/html/body/div[1]/div/div[3]/div[1]/div[2]/div[9]/div/div/div[5]/div/div[4]/div[1]/div/div/div[1]/div\").text\n",
    "review = driver.find_element_by_css_selector(\"p._2-N8zT\").text\n",
    "summary = driver.find_element_by_css_selector(\"div.t-ZTKy\").text\n",
    "\n",
    "flipkart[\"product_rating\"].append(rating)\n",
    "flipkart[\"product_review\"].append(review)\n",
    "flipkart[\"product_summary\"].append(summary)"
   ]
  },
  {
   "cell_type": "code",
   "execution_count": 157,
   "metadata": {},
   "outputs": [
    {
     "data": {
      "text/html": [
       "<div>\n",
       "<style scoped>\n",
       "    .dataframe tbody tr th:only-of-type {\n",
       "        vertical-align: middle;\n",
       "    }\n",
       "\n",
       "    .dataframe tbody tr th {\n",
       "        vertical-align: top;\n",
       "    }\n",
       "\n",
       "    .dataframe thead th {\n",
       "        text-align: right;\n",
       "    }\n",
       "</style>\n",
       "<table border=\"1\" class=\"dataframe\">\n",
       "  <thead>\n",
       "    <tr style=\"text-align: right;\">\n",
       "      <th></th>\n",
       "      <th>product_rating</th>\n",
       "      <th>product_review</th>\n",
       "      <th>product_summary</th>\n",
       "    </tr>\n",
       "  </thead>\n",
       "  <tbody>\n",
       "    <tr>\n",
       "      <th>0</th>\n",
       "      <td>5</td>\n",
       "      <td>Brilliant</td>\n",
       "      <td>The Best Phone for the Money\\n\\nThe iPhone 11 ...</td>\n",
       "    </tr>\n",
       "  </tbody>\n",
       "</table>\n",
       "</div>"
      ],
      "text/plain": [
       "  product_rating product_review  \\\n",
       "0              5      Brilliant   \n",
       "\n",
       "                                     product_summary  \n",
       "0  The Best Phone for the Money\\n\\nThe iPhone 11 ...  "
      ]
     },
     "execution_count": 157,
     "metadata": {},
     "output_type": "execute_result"
    }
   ],
   "source": [
    "# tranform data into dataframe\n",
    "df=pd.DataFrame.from_dict(flipkart)\n",
    "df.head(10)\n"
   ]
  },
  {
   "cell_type": "markdown",
   "metadata": {},
   "source": [
    "Q8: Scrape data for first 100 sneakers you find when you visit flipkart.com and \n",
    "search for “sneakers” in the search field.\n",
    "You have to scrape 4 attributes of each sneaker :\n",
    "\n",
    "1. Brand\n",
    "2. Product Description\n",
    "3. Price\n",
    "4. discount %\n"
   ]
  },
  {
   "cell_type": "code",
   "execution_count": 161,
   "metadata": {},
   "outputs": [],
   "source": [
    "url = 'https://www.flipkart.com/' \n",
    "\n",
    "driver.get(url)\n",
    "\n",
    "#entering Inputs in the feild\n",
    "\n",
    "search_product = driver.find_element_by_xpath(\"/html/body/div[1]/div/div[1]/div[1]/div[2]/div[2]/form/div/div/input\").send_keys(\"sneakers\")\n",
    "search_btn = driver.find_element_by_xpath(\"/html/body/div[1]/div/div[1]/div[1]/div[2]/div[2]/form/div/button\").click()"
   ]
  },
  {
   "cell_type": "code",
   "execution_count": 162,
   "metadata": {},
   "outputs": [],
   "source": [
    "# create dictionary\n",
    "flipkart={\"Brand\":[],\"Product_Description\":[], \"Price\":[], \"Discount % \":[]}"
   ]
  },
  {
   "cell_type": "code",
   "execution_count": 163,
   "metadata": {},
   "outputs": [],
   "source": [
    "# scrape the data from website\n",
    "driver.implicitly_wait(10)\n",
    "brand = driver.find_element_by_xpath(\"/html/body/div/div/div[3]/div[1]/div[2]/div[2]/div/div[1]/div/div[2]/div[1]\").text\n",
    "description = driver.find_element_by_css_selector(\"a.IRpwTa\").text\n",
    "price = driver.find_element_by_css_selector(\"div._30jeq3\").text\n",
    "discount = driver.find_element_by_css_selector(\"div._3Ay6Sb\").text\n",
    "\n",
    "flipkart[\"Brand\"].append(brand)\n",
    "flipkart[\"Product_Description\"].append(description)\n",
    "flipkart[\"Price\"].append(price)\n",
    "flipkart[\"Discount % \"].append(discount)"
   ]
  },
  {
   "cell_type": "code",
   "execution_count": 164,
   "metadata": {},
   "outputs": [
    {
     "data": {
      "text/html": [
       "<div>\n",
       "<style scoped>\n",
       "    .dataframe tbody tr th:only-of-type {\n",
       "        vertical-align: middle;\n",
       "    }\n",
       "\n",
       "    .dataframe tbody tr th {\n",
       "        vertical-align: top;\n",
       "    }\n",
       "\n",
       "    .dataframe thead th {\n",
       "        text-align: right;\n",
       "    }\n",
       "</style>\n",
       "<table border=\"1\" class=\"dataframe\">\n",
       "  <thead>\n",
       "    <tr style=\"text-align: right;\">\n",
       "      <th></th>\n",
       "      <th>Brand</th>\n",
       "      <th>Product_Description</th>\n",
       "      <th>Price</th>\n",
       "      <th>Discount %</th>\n",
       "    </tr>\n",
       "  </thead>\n",
       "  <tbody>\n",
       "    <tr>\n",
       "      <th>0</th>\n",
       "      <td>Extoes</td>\n",
       "      <td>Relaxed Attractive Combo pack of 3 Sneakers Fo...</td>\n",
       "      <td>₹629</td>\n",
       "      <td>57% off</td>\n",
       "    </tr>\n",
       "  </tbody>\n",
       "</table>\n",
       "</div>"
      ],
      "text/plain": [
       "    Brand                                Product_Description Price Discount % \n",
       "0  Extoes  Relaxed Attractive Combo pack of 3 Sneakers Fo...  ₹629     57% off"
      ]
     },
     "execution_count": 164,
     "metadata": {},
     "output_type": "execute_result"
    }
   ],
   "source": [
    "# tranform data into dataframe\n",
    "df=pd.DataFrame.from_dict(flipkart)\n",
    "df.head(10)\n"
   ]
  },
  {
   "cell_type": "markdown",
   "metadata": {},
   "source": [
    "Q9: Go to the link - https://www.myntra.com/shoes\n",
    "Set Price filter to “Rs. 6649 to Rs. 13099” , Color filter to “Black”, as shown in \n",
    "the below image"
   ]
  },
  {
   "cell_type": "code",
   "execution_count": 167,
   "metadata": {},
   "outputs": [],
   "source": [
    "\n",
    "url = 'https://www.myntra.com/shoes' \n",
    "\n",
    "driver.get(url)"
   ]
  },
  {
   "cell_type": "code",
   "execution_count": 170,
   "metadata": {},
   "outputs": [],
   "source": [
    "color_btn = driver.find_element_by_xpath(\"/html/body/div[2]/div/div[1]/main/div[3]/div[1]/section/div/div[6]/ul/li[1]/label/span[1]\").click()\n",
    "price_btn = driver.find_element_by_xpath(\"/html/body/div[2]/div/div[1]/main/div[3]/div[1]/section/div/div[5]/ul/li[2]/label\").click()"
   ]
  },
  {
   "cell_type": "code",
   "execution_count": 172,
   "metadata": {},
   "outputs": [],
   "source": [
    "# create dictionary\n",
    "mytra={\"Shoes\":[],\"Short Shoe Description\":[], \"Price\":[]}"
   ]
  },
  {
   "cell_type": "code",
   "execution_count": 173,
   "metadata": {},
   "outputs": [],
   "source": [
    "# scrape the data from website\n",
    "driver.implicitly_wait(10)\n",
    "shoe_name = driver.find_element_by_xpath(\"/html/body/div[2]/div/div[1]/main/div[3]/div[2]/div/div[2]/section/ul/li[2]/a/div[2]/h3\").text\n",
    "shoe_description = driver.find_element_by_css_selector(\"h4.product-product\").text\n",
    "price = driver.find_element_by_css_selector(\"div.product-price\").text\n",
    "\n",
    "mytra[\"Shoes\"].append(shoe_name)\n",
    "mytra[\"Short Shoe Description\"].append(shoe_description)\n",
    "mytra[\"Price\"].append(price)\n"
   ]
  },
  {
   "cell_type": "code",
   "execution_count": 174,
   "metadata": {},
   "outputs": [
    {
     "data": {
      "text/html": [
       "<div>\n",
       "<style scoped>\n",
       "    .dataframe tbody tr th:only-of-type {\n",
       "        vertical-align: middle;\n",
       "    }\n",
       "\n",
       "    .dataframe tbody tr th {\n",
       "        vertical-align: top;\n",
       "    }\n",
       "\n",
       "    .dataframe thead th {\n",
       "        text-align: right;\n",
       "    }\n",
       "</style>\n",
       "<table border=\"1\" class=\"dataframe\">\n",
       "  <thead>\n",
       "    <tr style=\"text-align: right;\">\n",
       "      <th></th>\n",
       "      <th>Shoes</th>\n",
       "      <th>Short Shoe Description</th>\n",
       "      <th>Price</th>\n",
       "    </tr>\n",
       "  </thead>\n",
       "  <tbody>\n",
       "    <tr>\n",
       "      <th>0</th>\n",
       "      <td>PUMA Motorsport</td>\n",
       "      <td>Men AIR ZOOM Running Shoes</td>\n",
       "      <td>Rs. 10796Rs. 13495(20% OFF)</td>\n",
       "    </tr>\n",
       "  </tbody>\n",
       "</table>\n",
       "</div>"
      ],
      "text/plain": [
       "             Shoes      Short Shoe Description                        Price\n",
       "0  PUMA Motorsport  Men AIR ZOOM Running Shoes  Rs. 10796Rs. 13495(20% OFF)"
      ]
     },
     "execution_count": 174,
     "metadata": {},
     "output_type": "execute_result"
    }
   ],
   "source": [
    "# tranform data into dataframe\n",
    "df=pd.DataFrame.from_dict(mytra)\n",
    "df.head(10)\n"
   ]
  },
  {
   "cell_type": "markdown",
   "metadata": {},
   "source": [
    "Q10: Go to webpage https://www.amazon.in/\n",
    " Enter “Laptop” in the search field and then click the search icon"
   ]
  },
  {
   "cell_type": "code",
   "execution_count": 181,
   "metadata": {},
   "outputs": [],
   "source": [
    "\n",
    "url = 'https://www.amazon.in/' \n",
    "\n",
    "driver.get(url)"
   ]
  },
  {
   "cell_type": "code",
   "execution_count": 182,
   "metadata": {},
   "outputs": [],
   "source": [
    "#entering Inputs in the feild\n",
    "\n",
    "search_product = driver.find_element_by_id(\"twotabsearchtextbox\").send_keys(\"Laptop\")\n",
    "search_btn = driver.find_element_by_xpath(\"/html/body/div[1]/header/div/div[1]/div[2]/div/form/div[3]/div/span\").click()"
   ]
  },
  {
   "cell_type": "code",
   "execution_count": 183,
   "metadata": {},
   "outputs": [],
   "source": [
    "filter1_btn = driver.find_element_by_xpath(\"/html/body/div[1]/div[2]/div[1]/div/div[2]/div/div[3]/span/div[1]/span/div/div/div[6]/ul[2]/li[10]/span/a/span\").click()\n",
    "#filter2_btn = driver.find_element_by_xpath(\"/html/body/div[1]/div[2]/div[1]/div/div[2]/div/div[3]/span/div[1]/span/div/div/div[6]/ul[2]/li[11]/span/a/span\").click()"
   ]
  },
  {
   "cell_type": "code",
   "execution_count": 196,
   "metadata": {},
   "outputs": [],
   "source": [
    "# create dictionary\n",
    "Amazon={\"Title\":[],\"Rating\":[], \"Price\":[]}"
   ]
  },
  {
   "cell_type": "code",
   "execution_count": 200,
   "metadata": {},
   "outputs": [],
   "source": [
    "# scrape the data from website\n",
    "driver.implicitly_wait(10)\n",
    "title = driver.find_element_by_xpath(\"/html/body/div[1]/div[2]/div[1]/div/div[1]/div/span[3]/div[2]/div[5]/div/span/div/div/div[2]/div[2]/div/div[1]/h2/a/span\").text\n",
    "rating = driver.find_element_by_id(\"a-popover-content-3\").text\n",
    "price = driver.find_element_by_css_selector(\"span.a-price-whole\").text\n",
    "\n",
    "Amazon[\"Title\"].append(title)\n",
    "Amazon[\"Rating\"].append(rating)\n",
    "Amazon[\"Price\"].append(price)\n"
   ]
  },
  {
   "cell_type": "code",
   "execution_count": 201,
   "metadata": {},
   "outputs": [
    {
     "data": {
      "text/html": [
       "<div>\n",
       "<style scoped>\n",
       "    .dataframe tbody tr th:only-of-type {\n",
       "        vertical-align: middle;\n",
       "    }\n",
       "\n",
       "    .dataframe tbody tr th {\n",
       "        vertical-align: top;\n",
       "    }\n",
       "\n",
       "    .dataframe thead th {\n",
       "        text-align: right;\n",
       "    }\n",
       "</style>\n",
       "<table border=\"1\" class=\"dataframe\">\n",
       "  <thead>\n",
       "    <tr style=\"text-align: right;\">\n",
       "      <th></th>\n",
       "      <th>Title</th>\n",
       "      <th>Rating</th>\n",
       "      <th>Price</th>\n",
       "    </tr>\n",
       "  </thead>\n",
       "  <tbody>\n",
       "    <tr>\n",
       "      <th>0</th>\n",
       "      <td>HP 15 Entry Level 15.6-inch HD Laptop (AMD 302...</td>\n",
       "      <td>&lt;selenium.webdriver.remote.webelement.WebEleme...</td>\n",
       "      <td>24,686</td>\n",
       "    </tr>\n",
       "    <tr>\n",
       "      <th>1</th>\n",
       "      <td>HP 15 Entry Level 15.6-inch HD Laptop (AMD 302...</td>\n",
       "      <td>3.9 out of 5\\n374 global ratings\\n5 star\\n49%\\...</td>\n",
       "      <td>24,686</td>\n",
       "    </tr>\n",
       "  </tbody>\n",
       "</table>\n",
       "</div>"
      ],
      "text/plain": [
       "                                               Title  \\\n",
       "0  HP 15 Entry Level 15.6-inch HD Laptop (AMD 302...   \n",
       "1  HP 15 Entry Level 15.6-inch HD Laptop (AMD 302...   \n",
       "\n",
       "                                              Rating   Price  \n",
       "0  <selenium.webdriver.remote.webelement.WebEleme...  24,686  \n",
       "1  3.9 out of 5\\n374 global ratings\\n5 star\\n49%\\...  24,686  "
      ]
     },
     "execution_count": 201,
     "metadata": {},
     "output_type": "execute_result"
    }
   ],
   "source": [
    "# tranform data into dataframe\n",
    "df=pd.DataFrame.from_dict(Amazon)\n",
    "df.head(10)\n"
   ]
  }
 ],
 "metadata": {
  "kernelspec": {
   "display_name": "Python 3",
   "language": "python",
   "name": "python3"
  },
  "language_info": {
   "codemirror_mode": {
    "name": "ipython",
    "version": 3
   },
   "file_extension": ".py",
   "mimetype": "text/x-python",
   "name": "python",
   "nbconvert_exporter": "python",
   "pygments_lexer": "ipython3",
   "version": "3.8.3"
  }
 },
 "nbformat": 4,
 "nbformat_minor": 4
}
